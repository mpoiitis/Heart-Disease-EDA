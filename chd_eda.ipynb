{
 "cells": [
  {
   "cell_type": "markdown",
   "metadata": {},
   "source": [
    "The Framingham Heart Study: Predicting the 10 year risk factors"
   ]
  },
  {
   "cell_type": "code",
   "execution_count": 39,
   "metadata": {},
   "outputs": [],
   "source": [
    "import numpy as np\n",
    "import pandas as pd\n",
    "import seaborn as sns\n",
    "import matplotlib.pyplot as plt\n",
    "\n",
    "from numpy import mean\n",
    "\n",
    "from sklearn.datasets import make_classification\n",
    "from sklearn.model_selection import train_test_split, cross_val_score, RepeatedStratifiedKFold\n",
    "from sklearn.tree import DecisionTreeClassifier\n",
    "from sklearn.metrics import classification_report,accuracy_score\n",
    "\n",
    "from imblearn.pipeline import Pipeline\n",
    "from imblearn.under_sampling import RandomUnderSampler\n",
    "from imblearn.over_sampling import RandomOverSampler\n",
    "\n",
    "sns.set_palette('RdYlGn')"
   ]
  },
  {
   "cell_type": "code",
   "execution_count": 6,
   "metadata": {},
   "outputs": [
    {
     "data": {
      "text/html": [
       "<div>\n",
       "<style scoped>\n",
       "    .dataframe tbody tr th:only-of-type {\n",
       "        vertical-align: middle;\n",
       "    }\n",
       "\n",
       "    .dataframe tbody tr th {\n",
       "        vertical-align: top;\n",
       "    }\n",
       "\n",
       "    .dataframe thead th {\n",
       "        text-align: right;\n",
       "    }\n",
       "</style>\n",
       "<table border=\"1\" class=\"dataframe\">\n",
       "  <thead>\n",
       "    <tr style=\"text-align: right;\">\n",
       "      <th></th>\n",
       "      <th>RANDID</th>\n",
       "      <th>SEX</th>\n",
       "      <th>TOTCHOL</th>\n",
       "      <th>AGE</th>\n",
       "      <th>SYSBP</th>\n",
       "      <th>DIABP</th>\n",
       "      <th>CURSMOKE</th>\n",
       "      <th>CIGPDAY</th>\n",
       "      <th>BMI</th>\n",
       "      <th>DIABETES</th>\n",
       "      <th>...</th>\n",
       "      <th>CVD</th>\n",
       "      <th>HYPERTEN</th>\n",
       "      <th>TIMEAP</th>\n",
       "      <th>TIMEMI</th>\n",
       "      <th>TIMEMIFC</th>\n",
       "      <th>TIMECHD</th>\n",
       "      <th>TIMESTRK</th>\n",
       "      <th>TIMECVD</th>\n",
       "      <th>TIMEDTH</th>\n",
       "      <th>TIMEHYP</th>\n",
       "    </tr>\n",
       "  </thead>\n",
       "  <tbody>\n",
       "    <tr>\n",
       "      <th>0</th>\n",
       "      <td>2448</td>\n",
       "      <td>1</td>\n",
       "      <td>195.0</td>\n",
       "      <td>39</td>\n",
       "      <td>106.0</td>\n",
       "      <td>70.0</td>\n",
       "      <td>0</td>\n",
       "      <td>0.0</td>\n",
       "      <td>26.97</td>\n",
       "      <td>0</td>\n",
       "      <td>...</td>\n",
       "      <td>1</td>\n",
       "      <td>0</td>\n",
       "      <td>8766</td>\n",
       "      <td>6438</td>\n",
       "      <td>6438</td>\n",
       "      <td>6438</td>\n",
       "      <td>8766</td>\n",
       "      <td>6438</td>\n",
       "      <td>8766</td>\n",
       "      <td>8766</td>\n",
       "    </tr>\n",
       "    <tr>\n",
       "      <th>1</th>\n",
       "      <td>2448</td>\n",
       "      <td>1</td>\n",
       "      <td>209.0</td>\n",
       "      <td>52</td>\n",
       "      <td>121.0</td>\n",
       "      <td>66.0</td>\n",
       "      <td>0</td>\n",
       "      <td>0.0</td>\n",
       "      <td>NaN</td>\n",
       "      <td>0</td>\n",
       "      <td>...</td>\n",
       "      <td>1</td>\n",
       "      <td>0</td>\n",
       "      <td>8766</td>\n",
       "      <td>6438</td>\n",
       "      <td>6438</td>\n",
       "      <td>6438</td>\n",
       "      <td>8766</td>\n",
       "      <td>6438</td>\n",
       "      <td>8766</td>\n",
       "      <td>8766</td>\n",
       "    </tr>\n",
       "    <tr>\n",
       "      <th>2</th>\n",
       "      <td>6238</td>\n",
       "      <td>2</td>\n",
       "      <td>250.0</td>\n",
       "      <td>46</td>\n",
       "      <td>121.0</td>\n",
       "      <td>81.0</td>\n",
       "      <td>0</td>\n",
       "      <td>0.0</td>\n",
       "      <td>28.73</td>\n",
       "      <td>0</td>\n",
       "      <td>...</td>\n",
       "      <td>0</td>\n",
       "      <td>0</td>\n",
       "      <td>8766</td>\n",
       "      <td>8766</td>\n",
       "      <td>8766</td>\n",
       "      <td>8766</td>\n",
       "      <td>8766</td>\n",
       "      <td>8766</td>\n",
       "      <td>8766</td>\n",
       "      <td>8766</td>\n",
       "    </tr>\n",
       "    <tr>\n",
       "      <th>3</th>\n",
       "      <td>6238</td>\n",
       "      <td>2</td>\n",
       "      <td>260.0</td>\n",
       "      <td>52</td>\n",
       "      <td>105.0</td>\n",
       "      <td>69.5</td>\n",
       "      <td>0</td>\n",
       "      <td>0.0</td>\n",
       "      <td>29.43</td>\n",
       "      <td>0</td>\n",
       "      <td>...</td>\n",
       "      <td>0</td>\n",
       "      <td>0</td>\n",
       "      <td>8766</td>\n",
       "      <td>8766</td>\n",
       "      <td>8766</td>\n",
       "      <td>8766</td>\n",
       "      <td>8766</td>\n",
       "      <td>8766</td>\n",
       "      <td>8766</td>\n",
       "      <td>8766</td>\n",
       "    </tr>\n",
       "    <tr>\n",
       "      <th>4</th>\n",
       "      <td>6238</td>\n",
       "      <td>2</td>\n",
       "      <td>237.0</td>\n",
       "      <td>58</td>\n",
       "      <td>108.0</td>\n",
       "      <td>66.0</td>\n",
       "      <td>0</td>\n",
       "      <td>0.0</td>\n",
       "      <td>28.50</td>\n",
       "      <td>0</td>\n",
       "      <td>...</td>\n",
       "      <td>0</td>\n",
       "      <td>0</td>\n",
       "      <td>8766</td>\n",
       "      <td>8766</td>\n",
       "      <td>8766</td>\n",
       "      <td>8766</td>\n",
       "      <td>8766</td>\n",
       "      <td>8766</td>\n",
       "      <td>8766</td>\n",
       "      <td>8766</td>\n",
       "    </tr>\n",
       "  </tbody>\n",
       "</table>\n",
       "<p>5 rows × 39 columns</p>\n",
       "</div>"
      ],
      "text/plain": [
       "   RANDID  SEX  TOTCHOL  AGE  SYSBP  DIABP  CURSMOKE  CIGPDAY    BMI  \\\n",
       "0    2448    1    195.0   39  106.0   70.0         0      0.0  26.97   \n",
       "1    2448    1    209.0   52  121.0   66.0         0      0.0    NaN   \n",
       "2    6238    2    250.0   46  121.0   81.0         0      0.0  28.73   \n",
       "3    6238    2    260.0   52  105.0   69.5         0      0.0  29.43   \n",
       "4    6238    2    237.0   58  108.0   66.0         0      0.0  28.50   \n",
       "\n",
       "   DIABETES  ...  CVD  HYPERTEN  TIMEAP  TIMEMI  TIMEMIFC  TIMECHD  TIMESTRK  \\\n",
       "0         0  ...    1         0    8766    6438      6438     6438      8766   \n",
       "1         0  ...    1         0    8766    6438      6438     6438      8766   \n",
       "2         0  ...    0         0    8766    8766      8766     8766      8766   \n",
       "3         0  ...    0         0    8766    8766      8766     8766      8766   \n",
       "4         0  ...    0         0    8766    8766      8766     8766      8766   \n",
       "\n",
       "   TIMECVD  TIMEDTH  TIMEHYP  \n",
       "0     6438     8766     8766  \n",
       "1     6438     8766     8766  \n",
       "2     8766     8766     8766  \n",
       "3     8766     8766     8766  \n",
       "4     8766     8766     8766  \n",
       "\n",
       "[5 rows x 39 columns]"
      ]
     },
     "execution_count": 6,
     "metadata": {},
     "output_type": "execute_result"
    }
   ],
   "source": [
    "# Creating the data frame\n",
    "data = pd.read_csv('data/frmgham2.csv')\n",
    "\n",
    "# Reading the head of data frame\n",
    "data.head()"
   ]
  },
  {
   "cell_type": "markdown",
   "metadata": {},
   "source": [
    "# Exploratory Data Analysis"
   ]
  },
  {
   "cell_type": "markdown",
   "metadata": {},
   "source": [
    "The first step before creating the machine learing model, is the exploratory data analysis (EDA) , to better understand the data. EDA could contain various methods but for the shake of simplicity, here I perform only some visual ones.\n",
    "\n",
    "The Framingham Heart Study found many risk factors contributing in increasing the risk of CHD, such as smoking and high cholesterol levels.\n",
    "Let's examine some of these risk factors, and find if these insights are observed in this dataset."
   ]
  },
  {
   "cell_type": "markdown",
   "metadata": {},
   "source": [
    "In 1960, smoking was found to increase the risk of CHD. Let's see if this is evident in the data."
   ]
  },
  {
   "cell_type": "code",
   "execution_count": 7,
   "metadata": {},
   "outputs": [
    {
     "data": {
      "text/plain": [
       "<seaborn.axisgrid.FacetGrid at 0x1f0b0614f10>"
      ]
     },
     "execution_count": 7,
     "metadata": {},
     "output_type": "execute_result"
    },
    {
     "data": {
      "image/png": "[encoded data removed]",
      "text/plain": [
       "<Figure size 360x360 with 1 Axes>"
      ]
     },
     "metadata": {
      "needs_background": "light"
     },
     "output_type": "display_data"
    }
   ],
   "source": [
    "sns.catplot(x='ANYCHD', y='CIGPDAY', kind='bar', data=data)"
   ]
  },
  {
   "cell_type": "markdown",
   "metadata": {},
   "source": [
    "It can be seen that patients who have some kind of CHD smoke more cigarettes per day than those who do not, although the difference is subtle.\n",
    "\n",
    "Next is the relation to cholesterol and blood pressure. In 1961, it was found that these two factors relate to an increased number of CHD."
   ]
  },
  {
   "cell_type": "code",
   "execution_count": 8,
   "metadata": {},
   "outputs": [
    {
     "data": {
      "text/plain": [
       "<AxesSubplot:xlabel='ANYCHD', ylabel='DIABP'>"
      ]
     },
     "execution_count": 8,
     "metadata": {},
     "output_type": "execute_result"
    },
    {
     "data": {
      "image/png": "[encoded data removed]",
      "text/plain": [
       "<Figure size 1382.4x345.6 with 3 Axes>"
      ]
     },
     "metadata": {
      "needs_background": "light"
     },
     "output_type": "display_data"
    }
   ],
   "source": [
    "fig, ax = plt.subplots(1, 3, figsize=(19.2,4.8))\n",
    "\n",
    "sns.boxplot(x='ANYCHD', y='TOTCHOL', data=data, ax=ax[0])\n",
    "sns.boxplot(x='ANYCHD', y='SYSBP', data=data, ax=ax[1])\n",
    "sns.boxplot(x='ANYCHD', y='DIABP', data=data, ax=ax[2])"
   ]
  },
  {
   "cell_type": "markdown",
   "metadata": {},
   "source": [
    "From here, it can be seen that patients with higher levels of cholesterol and blood pressure (both systolic and diastolic) are more likely to develop CHD. For cholesterol this observation is very subtle and maybe not significant, because the specific feature contains both LDL and HDL. However, in 1988 only LDL was found to increase the risk of CHD, while HDL (the good cholesterol) was actually proven to decrease it."
   ]
  },
  {
   "cell_type": "markdown",
   "metadata": {},
   "source": [
    "In 1999, the lifetime risk of developing CHD was found to be higher in men than in women."
   ]
  },
  {
   "cell_type": "code",
   "execution_count": 28,
   "metadata": {},
   "outputs": [
    {
     "data": {
      "text/plain": [
       "<matplotlib.legend.Legend at 0x18a3c341610>"
      ]
     },
     "execution_count": 28,
     "metadata": {},
     "output_type": "execute_result"
    },
    {
     "data": {
      "image/png": "[encoded data removed]",
      "text/plain": [
       "<Figure size 432x288 with 1 Axes>"
      ]
     },
     "metadata": {
      "needs_background": "light"
     },
     "output_type": "display_data"
    }
   ],
   "source": [
    "sns.boxplot(x='ANYCHD',y='AGE',hue='SEX',data=data)\n",
    "plt.legend(bbox_to_anchor=(1.05, 1), loc=2, borderaxespad=0.)"
   ]
  },
  {
   "cell_type": "markdown",
   "metadata": {},
   "source": [
    "It can be seen that men present some kind of CHD earlier in their lifes, when compared to women."
   ]
  },
  {
   "cell_type": "markdown",
   "metadata": {},
   "source": [
    "In 2002, obesity was found to be a risk factor in developing CHD. Let's check this through BMI feature."
   ]
  },
  {
   "cell_type": "code",
   "execution_count": 26,
   "metadata": {},
   "outputs": [
    {
     "data": {
      "text/plain": [
       "<seaborn.axisgrid.FacetGrid at 0x18a3c26fd30>"
      ]
     },
     "execution_count": 26,
     "metadata": {},
     "output_type": "execute_result"
    },
    {
     "data": {
      "image/png": "[encoded data removed]",
      "text/plain": [
       "<Figure size 360x360 with 1 Axes>"
      ]
     },
     "metadata": {
      "needs_background": "light"
     },
     "output_type": "display_data"
    }
   ],
   "source": [
    "sns.catplot(x='ANYCHD', y='BMI', kind='bar', data=data)"
   ]
  },
  {
   "cell_type": "markdown",
   "metadata": {},
   "source": [
    "Patients with CHD are seen to have slightly higher BMI than patients without."
   ]
  },
  {
   "cell_type": "markdown",
   "metadata": {},
   "source": [
    "Some other factors may be interesting too. Specifically, let's look at:\n",
    "- the relationship between age, prevalent stroke, and the risk of developing CHD.\n",
    "- the variables age, diabetes, and the risk of developing CHD.\n",
    "- blood pressure medication and the risk of developing CHD."
   ]
  },
  {
   "cell_type": "code",
   "execution_count": 24,
   "metadata": {},
   "outputs": [
    {
     "data": {
      "text/plain": [
       "<AxesSubplot:xlabel='ANYCHD', ylabel='BPMEDS'>"
      ]
     },
     "execution_count": 24,
     "metadata": {},
     "output_type": "execute_result"
    },
    {
     "data": {
      "image/png": "[encoded data removed]",
      "text/plain": [
       "<Figure size 1396.8x345.6 with 3 Axes>"
      ]
     },
     "metadata": {
      "needs_background": "light"
     },
     "output_type": "display_data"
    }
   ],
   "source": [
    "fig, ax = plt.subplots(1, 3, figsize=(19.4,4.8))\n",
    "\n",
    "sns.boxplot(x='ANYCHD', y='AGE', hue='PREVSTRK', data=data, ax=ax[0])\n",
    "sns.boxplot(x='ANYCHD', y='AGE', hue='DIABETES', data=data, ax=ax[1])\n",
    "sns.barplot(x='ANYCHD', y='BPMEDS', data=data, ax=ax[2])"
   ]
  },
  {
   "cell_type": "markdown",
   "metadata": {},
   "source": [
    "It looks like strokes and diabetes are more prevalent in participants of an older age group. Also, a higher dosage of blood pressure medication is associated with a larger CHD risk. This may mean that patients with more severe blood pressure issues are related to an increased risk of CHD."
   ]
  },
  {
   "cell_type": "markdown",
   "metadata": {},
   "source": [
    "# Data Preprocessing"
   ]
  },
  {
   "cell_type": "markdown",
   "metadata": {},
   "source": [
    "After EDA, some data preprocessing is needed before passing the data to the model. First, let's check for empty values"
   ]
  },
  {
   "cell_type": "code",
   "execution_count": 25,
   "metadata": {},
   "outputs": [
    {
     "data": {
      "text/plain": [
       "RANDID      False\n",
       "SEX         False\n",
       "TOTCHOL      True\n",
       "AGE         False\n",
       "SYSBP       False\n",
       "DIABP       False\n",
       "CURSMOKE    False\n",
       "CIGPDAY      True\n",
       "BMI          True\n",
       "DIABETES    False\n",
       "BPMEDS       True\n",
       "HEARTRTE     True\n",
       "GLUCOSE      True\n",
       "educ         True\n",
       "PREVCHD     False\n",
       "PREVAP      False\n",
       "PREVMI      False\n",
       "PREVSTRK    False\n",
       "PREVHYP     False\n",
       "TIME        False\n",
       "PERIOD      False\n",
       "HDLC         True\n",
       "LDLC         True\n",
       "DEATH       False\n",
       "ANGINA      False\n",
       "HOSPMI      False\n",
       "MI_FCHD     False\n",
       "ANYCHD      False\n",
       "STROKE      False\n",
       "CVD         False\n",
       "HYPERTEN    False\n",
       "TIMEAP      False\n",
       "TIMEMI      False\n",
       "TIMEMIFC    False\n",
       "TIMECHD     False\n",
       "TIMESTRK    False\n",
       "TIMECVD     False\n",
       "TIMEDTH     False\n",
       "TIMEHYP     False\n",
       "dtype: bool"
      ]
     },
     "execution_count": 25,
     "metadata": {},
     "output_type": "execute_result"
    }
   ],
   "source": [
    "# Checking for null values\n",
    "data.isnull().any()"
   ]
  },
  {
   "cell_type": "markdown",
   "metadata": {},
   "source": [
    "Ok, there are features with empty values. For simplicity let's drop them."
   ]
  },
  {
   "cell_type": "code",
   "execution_count": 27,
   "metadata": {},
   "outputs": [],
   "source": [
    "# Dropping null values\n",
    "data_without_nan = data.dropna()"
   ]
  },
  {
   "cell_type": "code",
   "execution_count": 28,
   "metadata": {},
   "outputs": [
    {
     "data": {
      "text/plain": [
       "RANDID      False\n",
       "SEX         False\n",
       "TOTCHOL     False\n",
       "AGE         False\n",
       "SYSBP       False\n",
       "DIABP       False\n",
       "CURSMOKE    False\n",
       "CIGPDAY     False\n",
       "BMI         False\n",
       "DIABETES    False\n",
       "BPMEDS      False\n",
       "HEARTRTE    False\n",
       "GLUCOSE     False\n",
       "educ        False\n",
       "PREVCHD     False\n",
       "PREVAP      False\n",
       "PREVMI      False\n",
       "PREVSTRK    False\n",
       "PREVHYP     False\n",
       "TIME        False\n",
       "PERIOD      False\n",
       "HDLC        False\n",
       "LDLC        False\n",
       "DEATH       False\n",
       "ANGINA      False\n",
       "HOSPMI      False\n",
       "MI_FCHD     False\n",
       "ANYCHD      False\n",
       "STROKE      False\n",
       "CVD         False\n",
       "HYPERTEN    False\n",
       "TIMEAP      False\n",
       "TIMEMI      False\n",
       "TIMEMIFC    False\n",
       "TIMECHD     False\n",
       "TIMESTRK    False\n",
       "TIMECVD     False\n",
       "TIMEDTH     False\n",
       "TIMEHYP     False\n",
       "dtype: bool"
      ]
     },
     "execution_count": 28,
     "metadata": {},
     "output_type": "execute_result"
    }
   ],
   "source": [
    "data_without_nan.isnull().any()"
   ]
  },
  {
   "cell_type": "markdown",
   "metadata": {},
   "source": [
    "The model to classify the risk of CHD needs to perform better than the baseline. A baseline model is a model that classifies everything into the majority class."
   ]
  },
  {
   "cell_type": "code",
   "execution_count": 29,
   "metadata": {},
   "outputs": [
    {
     "data": {
      "text/plain": [
       "0    1663\n",
       "1     573\n",
       "Name: ANYCHD, dtype: int64"
      ]
     },
     "execution_count": 29,
     "metadata": {},
     "output_type": "execute_result"
    }
   ],
   "source": [
    "data_without_nan['ANYCHD'].value_counts()"
   ]
  },
  {
   "cell_type": "markdown",
   "metadata": {},
   "source": [
    "Here, the majority class is 0, or absence of CHD. The baseline accuracy is computed:"
   ]
  },
  {
   "cell_type": "code",
   "execution_count": 30,
   "metadata": {},
   "outputs": [
    {
     "data": {
      "text/plain": [
       "0.7437388193202147"
      ]
     },
     "execution_count": 30,
     "metadata": {},
     "output_type": "execute_result"
    }
   ],
   "source": [
    "# Baseline accuracy:\n",
    "1663/(1663+573)"
   ]
  },
  {
   "cell_type": "markdown",
   "metadata": {},
   "source": [
    "The model needs to beat the baseline accuracy of 0.74."
   ]
  },
  {
   "cell_type": "markdown",
   "metadata": {},
   "source": [
    "# Train-test split\n",
    "\n",
    "The task that we are going to address is the prediction of any kind of CHD event. Thus the actual value is binary, where 0 means that no event has occurred to the specific patient and 1 the opossite."
   ]
  },
  {
   "cell_type": "code",
   "execution_count": 31,
   "metadata": {},
   "outputs": [],
   "source": [
    "X = data_without_nan.drop('ANYCHD',axis=1)\n",
    "y = data_without_nan['ANYCHD']\n",
    "\n",
    "X_train, X_test, y_train, y_test = train_test_split(X,y,test_size=0.3)"
   ]
  },
  {
   "cell_type": "markdown",
   "metadata": {},
   "source": [
    "# Imbalance handling"
   ]
  },
  {
   "cell_type": "markdown",
   "metadata": {},
   "source": [
    "The data set is imbalanced, and ~75% of the data are participants who don't have a CHD risk. To overcome this, oversampling and undersampling are employed (this is one of many available techniques). Then, a pipeline for a decision tree classifier is created. Be careful here! To not bias the model training, oversampling and undersampling are applied only on the train data and not on the test ones. If test data were also affected, some of the synthetic test data would be included in the training as well, producing a rather optimistic result, ultimately."
   ]
  },
  {
   "cell_type": "code",
   "execution_count": 32,
   "metadata": {},
   "outputs": [],
   "source": [
    "steps = [('over', RandomOverSampler(sampling_strategy='minority')), ('under', RandomUnderSampler()), ('model', DecisionTreeClassifier())]\n",
    "pipeline = Pipeline(steps=steps)"
   ]
  },
  {
   "cell_type": "markdown",
   "metadata": {},
   "source": [
    "# Fitting the train data and making predictions on test data"
   ]
  },
  {
   "cell_type": "code",
   "execution_count": 34,
   "metadata": {},
   "outputs": [],
   "source": [
    "pipeline.fit(X_train,y_train)\n",
    "y_pred = pipeline.predict(X_test)"
   ]
  },
  {
   "cell_type": "markdown",
   "metadata": {},
   "source": [
    "# Evaluating the model"
   ]
  },
  {
   "cell_type": "code",
   "execution_count": 38,
   "metadata": {},
   "outputs": [
    {
     "name": "stdout",
     "output_type": "stream",
     "text": [
      "              precision    recall  f1-score   support\n",
      "\n",
      "           0       1.00      1.00      1.00       489\n",
      "           1       0.99      0.99      0.99       182\n",
      "\n",
      "    accuracy                           1.00       671\n",
      "   macro avg       1.00      0.99      0.99       671\n",
      "weighted avg       1.00      1.00      1.00       671\n",
      "\n"
     ]
    }
   ],
   "source": [
    "print(classification_report(y_test, y_pred))"
   ]
  },
  {
   "cell_type": "code",
   "execution_count": 60,
   "metadata": {},
   "outputs": [
    {
     "data": {
      "text/plain": [
       "0.9940387481371088"
      ]
     },
     "execution_count": 60,
     "metadata": {},
     "output_type": "execute_result"
    }
   ],
   "source": [
    "accuracy_score(y_test, y_pred)"
   ]
  },
  {
   "cell_type": "markdown",
   "metadata": {},
   "source": [
    "The model achieves near perfect precision, recall, f1 and accuracy, outperforming the baseline."
   ]
  }
 ],
 "metadata": {
  "kernelspec": {
   "display_name": "chd_env",
   "language": "python",
   "name": "chd_env"
  },
  "language_info": {
   "codemirror_mode": {
    "name": "ipython",
    "version": 3
   },
   "file_extension": ".py",
   "mimetype": "text/x-python",
   "name": "python",
   "nbconvert_exporter": "python",
   "pygments_lexer": "ipython3",
   "version": "3.9.1"
  }
 },
 "nbformat": 4,
 "nbformat_minor": 4
}